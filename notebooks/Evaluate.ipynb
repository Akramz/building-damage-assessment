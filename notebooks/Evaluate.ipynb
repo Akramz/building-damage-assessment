{
 "cells": [
  {
   "cell_type": "markdown",
   "id": "3f17574c",
   "metadata": {},
   "source": [
    "Copyright (c) Microsoft Corporation. All rights reserved.\n",
    "\n",
    "Licensed under the MIT License."
   ]
  },
  {
   "cell_type": "markdown",
   "id": "1c33503b",
   "metadata": {},
   "source": [
    "Example notebook showing a visual validation workflow for Hurricane Beryl."
   ]
  },
  {
   "cell_type": "code",
   "execution_count": 1,
   "id": "272f33a6-6e99-4d85-85de-40ad1bdbf27a",
   "metadata": {},
   "outputs": [],
   "source": [
    "import os\n",
    "import fiona\n",
    "import fiona.transform\n",
    "import rasterio\n",
    "import rasterio.mask\n",
    "import numpy as np\n",
    "import pickle\n",
    "import matplotlib.pyplot as plt\n",
    "import shapely.geometry\n",
    "import yaml\n",
    "\n",
    "\n",
    "from pigeon import annotate\n",
    "import cv2\n",
    "from tqdm import tqdm\n",
    "from sklearn.metrics import accuracy_score, recall_score, precision_score\n",
    "from sklearn.metrics import (\n",
    "    precision_recall_curve,\n",
    "    average_precision_score,\n",
    "    PrecisionRecallDisplay,\n",
    ")"
   ]
  },
  {
   "cell_type": "code",
   "execution_count": 2,
   "id": "e457e2bd-445b-45f5-9a76-1d789aeb0639",
   "metadata": {},
   "outputs": [],
   "source": [
    "config_file = \"../configs/beryl_07_05_2024_1.yml\"\n",
    "with open(config_file, \"r\") as f:\n",
    "    config = yaml.safe_load(f)\n",
    "\n",
    "experiment_dir = config[\"experiment_dir\"]\n",
    "\n",
    "if \"rgb_fn\" in config[\"imagery\"] and config[\"imagery\"][\"rgb_fn\"] is not None:\n",
    "    imagery_fn = config[\"imagery\"][\"rgb_fn\"]\n",
    "else:\n",
    "    # Set manually\n",
    "    imagery_fn = \"../data/hurricane_beryl_2024/raw/merged_rgb.tif\"\n",
    "\n",
    "footprint_results_fn = \"../experiments/beryl_07_05_2024_1/results-20240705_130212_ssc12_u0001-msft_footprints_merged.gpkg\"\n",
    "footprint_base_fn = os.path.basename(footprint_results_fn).replace(\".gpkg\", \"\")\n",
    "output_fn = os.path.join(\"..\", experiment_dir, f\"{footprint_base_fn}_annotations.pkl\")"
   ]
  },
  {
   "cell_type": "code",
   "execution_count": 3,
   "id": "481d7c4c-2363-4cd6-9ca6-5aadce6ee84b",
   "metadata": {},
   "outputs": [
    {
     "name": "stderr",
     "output_type": "stream",
     "text": [
      "100%|██████████| 3647/3647 [00:00<00:00, 9426.91it/s]\n"
     ]
    }
   ],
   "source": [
    "shapes = []\n",
    "y_pred = []\n",
    "y_pred_pct = []\n",
    "with fiona.open(footprint_results_fn) as f:\n",
    "    predictions_crs = f.crs\n",
    "    for i, row in enumerate(tqdm(f)):\n",
    "        if row[\"properties\"][\"unknown_pct\"] < 0.1:\n",
    "            shapes.append(shapely.geometry.shape(row[\"geometry\"]))\n",
    "            y_pred.append(row[\"properties\"][\"damage_pct_0m\"] > 0)\n",
    "            y_pred_pct.append(row[\"properties\"][\"damage_pct_0m\"])"
   ]
  },
  {
   "cell_type": "code",
   "execution_count": 4,
   "id": "bb40de10-3a47-411d-a169-0a979eb621ed",
   "metadata": {},
   "outputs": [
    {
     "name": "stdout",
     "output_type": "stream",
     "text": [
      "Total of 2816 rows\n"
     ]
    },
    {
     "name": "stderr",
     "output_type": "stream",
     "text": [
      "100%|██████████| 2816/2816 [00:06<00:00, 440.52it/s]\n"
     ]
    }
   ],
   "source": [
    "NUM_SAMPLES = len(shapes)\n",
    "\n",
    "print(f\"Total of {NUM_SAMPLES} rows\")\n",
    "\n",
    "idxs = np.arange(len(shapes))\n",
    "np.random.shuffle(idxs)\n",
    "\n",
    "new_idxs = []\n",
    "images = []\n",
    "with rasterio.open(imagery_fn) as f:\n",
    "    assert f.crs == predictions_crs\n",
    "    for i in tqdm(range(NUM_SAMPLES)):\n",
    "        idx = idxs[i]\n",
    "        shape = shapes[idx]\n",
    "\n",
    "        if shape.area <= 100:\n",
    "            continue\n",
    "\n",
    "        envelope_shape = shape.buffer(50).envelope\n",
    "        envelope_shape_minus_shape = envelope_shape - shape\n",
    "\n",
    "        try:\n",
    "            image, _ = rasterio.mask.mask(f, [envelope_shape], crop=True)\n",
    "            image = np.rollaxis(image, 0, 3)\n",
    "\n",
    "            mask_image, _ = rasterio.mask.mask(\n",
    "                f, [envelope_shape_minus_shape], crop=True\n",
    "            )\n",
    "            mask_image = mask_image[:, 1:-1, 1:-1]\n",
    "            mask = ((mask_image == 0).sum(axis=0) == f.count).astype(np.uint8)\n",
    "\n",
    "            cont = cv2.findContours(mask, cv2.RETR_EXTERNAL, cv2.CHAIN_APPROX_SIMPLE)\n",
    "            image_outlines = image.copy()\n",
    "            thickness = 1\n",
    "            cv2.drawContours(\n",
    "                image_outlines, cont[0], -1, (0, 255, 0), thickness=thickness\n",
    "            )\n",
    "\n",
    "            images.append(image_outlines)\n",
    "            new_idxs.append(idx)\n",
    "        except ValueError as e:\n",
    "            pass"
   ]
  },
  {
   "cell_type": "code",
   "execution_count": 5,
   "id": "6bae7066-ccd3-4407-b7ed-d9715ec284c0",
   "metadata": {},
   "outputs": [
    {
     "data": {
      "text/plain": [
       "1395"
      ]
     },
     "execution_count": 5,
     "metadata": {},
     "output_type": "execute_result"
    }
   ],
   "source": [
    "len(new_idxs)"
   ]
  },
  {
   "cell_type": "code",
   "execution_count": 20,
   "id": "70c7753e-5842-4cec-aa20-2a78c1b60a4a",
   "metadata": {},
   "outputs": [
    {
     "data": {
      "application/vnd.jupyter.widget-view+json": {
       "model_id": "37b18449edc64e1b921a217d86aecd40",
       "version_major": 2,
       "version_minor": 0
      },
      "text/plain": [
       "HTML(value='0 examples annotated, 1396 examples left')"
      ]
     },
     "metadata": {},
     "output_type": "display_data"
    },
    {
     "data": {
      "application/vnd.jupyter.widget-view+json": {
       "model_id": "231466665cad4af38f25ae8a063e62e8",
       "version_major": 2,
       "version_minor": 0
      },
      "text/plain": [
       "HBox(children=(Button(description='not damaged', style=ButtonStyle()), Button(description='damaged', style=But…"
      ]
     },
     "metadata": {},
     "output_type": "display_data"
    },
    {
     "data": {
      "application/vnd.jupyter.widget-view+json": {
       "model_id": "807028cab9a74788a9aa604471c5ac2b",
       "version_major": 2,
       "version_minor": 0
      },
      "text/plain": [
       "Output()"
      ]
     },
     "metadata": {},
     "output_type": "display_data"
    }
   ],
   "source": [
    "def show_image(i):\n",
    "    img = images[i]\n",
    "    idx = new_idxs[i]\n",
    "    fig, axs = plt.subplots(1, 1, figsize=(10, 10), facecolor=\"white\")\n",
    "    plt.imshow(img)\n",
    "    plt.axis(\"off\")\n",
    "    plt.show()\n",
    "    plt.close()\n",
    "\n",
    "\n",
    "annotations = annotate(\n",
    "    range(len(images)),\n",
    "    options=[\"not damaged\", \"damaged\", \"unsure\"],\n",
    "    display_fn=lambda i: show_image(i),\n",
    ")"
   ]
  },
  {
   "cell_type": "code",
   "execution_count": 13,
   "id": "2f3f1b5a-b918-4ad1-bc5a-fb8b6b013b60",
   "metadata": {},
   "outputs": [],
   "source": [
    "y_pred_new = []\n",
    "y_pred_pct_new = []\n",
    "\n",
    "y_true = []\n",
    "\n",
    "for i, idx in enumerate(new_idxs):\n",
    "    if i >= len(annotations):\n",
    "        break\n",
    "    t_y_true = annotations[i][1]\n",
    "    if t_y_true == \"unsure\":\n",
    "        continue\n",
    "\n",
    "    y_true.append(int(t_y_true == \"damaged\"))\n",
    "    y_pred_new.append(y_pred[idx])\n",
    "    y_pred_pct_new.append(y_pred_pct[idx])\n",
    "\n",
    "y_pred_new = np.array(y_pred_new)\n",
    "y_pred_pct_new = np.array(y_pred_pct_new)\n",
    "\n",
    "y_true = np.array(y_true)"
   ]
  },
  {
   "cell_type": "code",
   "execution_count": 19,
   "id": "c5b3abf7",
   "metadata": {},
   "outputs": [
    {
     "data": {
      "text/plain": [
       "140"
      ]
     },
     "execution_count": 19,
     "metadata": {},
     "output_type": "execute_result"
    }
   ],
   "source": [
    "len(y_pred_new)"
   ]
  },
  {
   "cell_type": "code",
   "execution_count": 14,
   "id": "67287253-3731-497d-b64a-0e8345f9588d",
   "metadata": {},
   "outputs": [
    {
     "data": {
      "text/plain": [
       "0.8785714285714286"
      ]
     },
     "execution_count": 14,
     "metadata": {},
     "output_type": "execute_result"
    }
   ],
   "source": [
    "accuracy_score(y_true, y_pred_new)"
   ]
  },
  {
   "cell_type": "code",
   "execution_count": 15,
   "id": "cb108ccd-4172-45b8-ad05-c2cd67af7309",
   "metadata": {},
   "outputs": [
    {
     "data": {
      "text/plain": [
       "(0.9375, 0.8620689655172413)"
      ]
     },
     "execution_count": 15,
     "metadata": {},
     "output_type": "execute_result"
    }
   ],
   "source": [
    "recall_score(y_true, y_pred_new), precision_score(y_true, y_pred_new)"
   ]
  },
  {
   "cell_type": "code",
   "execution_count": 16,
   "id": "0422e5e9-2756-4df1-be35-b2f505856900",
   "metadata": {},
   "outputs": [],
   "source": [
    "precision, recall, thresholds = precision_recall_curve(y_true, y_pred_pct_new)"
   ]
  },
  {
   "cell_type": "code",
   "execution_count": 17,
   "id": "0e0a4a64-3661-4785-9add-fcbecaafc462",
   "metadata": {},
   "outputs": [
    {
     "data": {
      "image/png": "[encoded data removed]",
      "text/plain": [
       "<Figure size 600x400 with 1 Axes>"
      ]
     },
     "metadata": {},
     "output_type": "display_data"
    }
   ],
   "source": [
    "fig, ax = plt.subplots(figsize=(6, 4))\n",
    "disp = PrecisionRecallDisplay.from_predictions(y_true, y_pred_pct_new, ax=ax)\n",
    "\n",
    "ax.spines[\"top\"].set_visible(False)\n",
    "ax.spines[\"right\"].set_visible(False)\n",
    "plt.xticks(fontsize=14)\n",
    "plt.yticks(fontsize=14)\n",
    "plt.legend(loc=\"lower left\", fontsize=14)\n",
    "plt.xlabel(\"Recall (damaged)\", fontsize=14)\n",
    "plt.ylabel(\"Precision (damaged)\", fontsize=14)\n",
    "\n",
    "plt.show()\n",
    "plt.close()"
   ]
  },
  {
   "cell_type": "code",
   "execution_count": 18,
   "id": "726e484c-8390-4302-9b3d-80064b760ac8",
   "metadata": {},
   "outputs": [],
   "source": [
    "with open(output_fn, \"wb\") as f:\n",
    "    pickle.dump(list(zip(new_idxs[: len(annotations)], annotations)), f)"
   ]
  }
 ],
 "metadata": {
  "kernelspec": {
   "display_name": "geo",
   "language": "python",
   "name": "python3"
  },
  "language_info": {
   "codemirror_mode": {
    "name": "ipython",
    "version": 3
   },
   "file_extension": ".py",
   "mimetype": "text/x-python",
   "name": "python",
   "nbconvert_exporter": "python",
   "pygments_lexer": "ipython3",
   "version": "3.10.14"
  }
 },
 "nbformat": 4,
 "nbformat_minor": 5
}
